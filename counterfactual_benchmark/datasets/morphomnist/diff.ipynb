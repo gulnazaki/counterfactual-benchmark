{
 "cells": [
  {
   "cell_type": "code",
   "execution_count": 2,
   "metadata": {},
   "outputs": [],
   "source": [
    "import sys \n",
    "#sys.path.append(\"\")\n",
    "#import io\n",
    "\n",
    "from dataset import MorphoMNISTLike"
   ]
  },
  {
   "cell_type": "code",
   "execution_count": 2,
   "metadata": {},
   "outputs": [
    {
     "name": "stdout",
     "output_type": "stream",
     "text": [
      "Note: you may need to restart the kernel to use updated packages.\n"
     ]
    }
   ],
   "source": [
    "%pip install -q diffusers"
   ]
  },
  {
   "cell_type": "code",
   "execution_count": 3,
   "metadata": {},
   "outputs": [
    {
     "name": "stdout",
     "output_type": "stream",
     "text": [
      "60000 10000\n"
     ]
    },
    {
     "data": {
      "text/plain": [
       "(torch.Size([1, 32, 32]), torch.Size([12]))"
      ]
     },
     "execution_count": 3,
     "metadata": {},
     "output_type": "execute_result"
    }
   ],
   "source": [
    "attribute_size = {\n",
    "        \"thickness\": 1,\n",
    "        \"intensity\": 1,\n",
    "        \"digit\": 10\n",
    "    }\n",
    "\n",
    "train_set = MorphoMNISTLike(attribute_size, train=True)\n",
    "val_set =  MorphoMNISTLike(attribute_size, train=False)\n",
    "print(len(train_set), len(val_set))\n",
    "train_set[0][0].shape , train_set[0][1].shape"
   ]
  },
  {
   "cell_type": "code",
   "execution_count": 4,
   "metadata": {},
   "outputs": [
    {
     "name": "stderr",
     "output_type": "stream",
     "text": [
      "/home/n.spyrou/crf_venv/lib/python3.10/site-packages/tqdm/auto.py:21: TqdmWarning: IProgress not found. Please update jupyter and ipywidgets. See https://ipywidgets.readthedocs.io/en/stable/user_install.html\n",
      "  from .autonotebook import tqdm as notebook_tqdm\n"
     ]
    },
    {
     "name": "stdout",
     "output_type": "stream",
     "text": [
      "Using device: cuda\n"
     ]
    }
   ],
   "source": [
    "import torch\n",
    "import torchvision\n",
    "from torch import nn\n",
    "from torch.nn import functional as F\n",
    "from torch.utils.data import DataLoader\n",
    "from diffusers import DDPMScheduler, UNet2DModel, DDIMScheduler, DDIMInverseScheduler\n",
    "from matplotlib import pyplot as plt\n",
    "from tqdm.auto import tqdm\n",
    "\n",
    "device = 'mps' if torch.backends.mps.is_available() else 'cuda' if torch.cuda.is_available() else 'cpu'\n",
    "print(f'Using device: {device}')"
   ]
  },
  {
   "cell_type": "code",
   "execution_count": 5,
   "metadata": {},
   "outputs": [
    {
     "name": "stdout",
     "output_type": "stream",
     "text": [
      "1875 313\n"
     ]
    }
   ],
   "source": [
    "tr_loader = torch.utils.data.DataLoader(train_set, batch_size=32, shuffle=True)\n",
    "val_loader  = torch.utils.data.DataLoader(val_set, batch_size=32, shuffle=False)\n",
    "print(len(tr_loader), len(val_loader))"
   ]
  },
  {
   "cell_type": "code",
   "execution_count": 6,
   "metadata": {},
   "outputs": [],
   "source": [
    "class embedfc(nn.Module):\n",
    "    def __init__(self, input_dim=12, emb_dim=128):\n",
    "        super(embedfc, self).__init__()\n",
    "        '''\n",
    "        generic one layer FC NN for embedding things  \n",
    "        '''\n",
    "        self.input_dim = input_dim\n",
    "        layers = [\n",
    "            nn.Linear(input_dim, emb_dim),\n",
    "            nn.GELU(),\n",
    "            nn.Linear(emb_dim, emb_dim),\n",
    "        ]\n",
    "        self.model = nn.Sequential(*layers)\n",
    "\n",
    "    def forward(self, x):\n",
    "        x = x.view(-1, self.input_dim)\n",
    "        return self.model(x)"
   ]
  },
  {
   "cell_type": "code",
   "execution_count": 7,
   "metadata": {},
   "outputs": [],
   "source": [
    "class ClassConditionedUnet(nn.Module):\n",
    "  def __init__(self, context_dim=12, emb_dim=128):\n",
    "    super().__init__()\n",
    "\n",
    "    # The embedding layer will map the class label to a vector of size class_emb_size\n",
    "  #  self.class_emb = nn.Embedding(num_classes, class_emb_size)\n",
    "\n",
    "    # Self.model is an unconditional UNet with extra input channels to accept the conditioning information (the class embedding)\n",
    "    self.model = UNet2DModel(\n",
    "        sample_size=32,           # the target image resolution\n",
    "        in_channels=1 + emb_dim, # Additional input channels for class cond.\n",
    "        out_channels=1,           # the number of output channels\n",
    "        layers_per_block=2,       # how many ResNet layers to use per UNet block\n",
    "        block_out_channels=(32, 64, 64),\n",
    "        down_block_types=(\n",
    "            \"DownBlock2D\",        # a regular ResNet downsampling block\n",
    "            \"AttnDownBlock2D\",    # a ResNet downsampling block with spatial self-attention\n",
    "            \"AttnDownBlock2D\",\n",
    "        ),\n",
    "        up_block_types=(\n",
    "            \"AttnUpBlock2D\",\n",
    "            \"AttnUpBlock2D\",      # a ResNet upsampling block with spatial self-attention\n",
    "            \"UpBlock2D\",          # a regular ResNet upsampling block\n",
    "          ),\n",
    "    )\n",
    "\n",
    "    self.fc_emb = embedfc(input_dim=context_dim, emb_dim=emb_dim)\n",
    "\n",
    "  # Our forward method now takes the class labels as an additional argument\n",
    "  def forward(self, x, t, y, drop_prob = 0.15):\n",
    "    # Shape of x:\n",
    "    bs, ch, w, h = x.shape\n",
    "    # class conditioning in right shape to add as additional input channels\n",
    "    #class_cond = self.class_emb(class_labels) # Map to embedding dimension\n",
    "    #class_cond = self.fc_emb(c)\n",
    "    mask = torch.rand(y.shape[0]) < drop_prob\n",
    "    y_drop_out = y.clone()\n",
    "    y_drop_out[mask] = 0\n",
    "    \n",
    "    context_cond = self.fc_emb(y_drop_out)\n",
    "    context_cond = context_cond.view(bs, context_cond.shape[1], 1, 1).expand(bs, context_cond.shape[1], w, h)\n",
    "    # x is shape (bs, 1, 28, 28) and class_cond is now (bs, 4, 28, 28)\n",
    "\n",
    "    # Net input is now x and class cond concatenated together along dimension 1\n",
    "    net_input = torch.cat((x, context_cond), 1) # (bs, 5, 28, 28)\n",
    "    #print(net_input.shape)\n",
    "\n",
    "    # Feed this to the UNet alongside the timestep and return the prediction\n",
    "    return self.model(net_input, t).sample # (bs, 1, 28, 28)"
   ]
  },
  {
   "cell_type": "code",
   "execution_count": 8,
   "metadata": {},
   "outputs": [],
   "source": [
    "model = ClassConditionedUnet(context_dim=12, emb_dim=128).to(device)"
   ]
  },
  {
   "cell_type": "code",
   "execution_count": 124,
   "metadata": {},
   "outputs": [
    {
     "name": "stderr",
     "output_type": "stream",
     "text": [
      "  0%|          | 0/1875 [00:00<?, ?it/s]"
     ]
    },
    {
     "name": "stdout",
     "output_type": "stream",
     "text": [
      "tensor([606,  65, 780, 395, 671, 359, 424, 478, 257, 929, 819, 776, 527, 898,\n",
      "        933, 173, 469, 363, 936, 191,  14, 809, 777, 213, 523, 598, 143, 255,\n",
      "        848, 556, 421,  72], device='cuda:0')\n",
      "tensor(-1.6831, device='cuda:0') tensor(3.7614, device='cuda:0')\n",
      "Finished training epoch 0. mean_train loss: 00nan\n"
     ]
    },
    {
     "name": "stderr",
     "output_type": "stream",
     "text": [
      "\n"
     ]
    },
    {
     "data": {
      "image/png": "[encoded data removed]",
      "text/plain": [
       "<Figure size 640x480 with 1 Axes>"
      ]
     },
     "metadata": {},
     "output_type": "display_data"
    }
   ],
   "source": [
    "import numpy as np\n",
    "\n",
    "n_epochs = 50\n",
    "noise_scheduler = DDPMScheduler(num_train_timesteps=1000)\n",
    "\n",
    "loss_fn = nn.MSELoss()\n",
    "\n",
    "opt = torch.optim.Adam(model.parameters(), lr=1e-3)\n",
    "\n",
    "# Keeping a record of the losses for later viewing\n",
    "losses = []\n",
    "val_losses = []\n",
    "best_val_loss = np.inf\n",
    "\n",
    "# The training loop\n",
    "for epoch in range(n_epochs):\n",
    "    losses = []\n",
    "    val_losses = []\n",
    "    for batch in tqdm(tr_loader):\n",
    "        x , y = batch[0].to(device), batch[1].to(device)\n",
    "\n",
    "        # Get some data and prepare the corrupted version\n",
    "       # x = x.to(device) * 2 - 1 # Data on the GPU (mapped to (-1, 1))\n",
    "       # y = y.to(device)\n",
    "        noise = torch.randn_like(x)\n",
    "        timesteps = torch.randint(0, 999, (x.shape[0],)).long().to(device)\n",
    "        noisy_x = noise_scheduler.add_noise(x, noise, timesteps)\n",
    "        print(timesteps)\n",
    "        plt.imshow(noisy_x[1].squeeze(0).cpu(),cmap=\"gray\")\n",
    "        print(noisy_x[1].min(), noisy_x.max())\n",
    "        break\n",
    "\n",
    "        # Get the model prediction\n",
    "        pred = model(noisy_x, timesteps, y, drop_prob = 0.15) # Note that we pass in the labels y\n",
    "\n",
    "        # Calculate the loss\n",
    "        loss = loss_fn(pred, noise) # How close is the output to the noise\n",
    "\n",
    "        # Backprop and update the params:\n",
    "        opt.zero_grad()\n",
    "        loss.backward()\n",
    "        opt.step()\n",
    "\n",
    "        # Store the loss for later\n",
    "        losses.append(loss.item())\n",
    "\n",
    "    print(f'Finished training epoch {epoch}. mean_train loss: {torch.tensor(losses).mean():05f}')\n",
    "   # print()\n",
    "    break\n",
    "\n",
    "\n",
    "    for batch in tqdm(val_loader):\n",
    "\n",
    "        x , y = batch[0].to(device), batch[1].to(device)\n",
    "\n",
    "        # Get some data and prepare the corrupted version\n",
    "       # x = x.to(device) * 2 - 1 # Data on the GPU (mapped to (-1, 1))\n",
    "       # y = y.to(device)\n",
    "        noise = torch.randn_like(x)\n",
    "        timesteps = torch.randint(0, 999, (x.shape[0],)).long().to(device)\n",
    "        noisy_x = noise_scheduler.add_noise(x, noise, timesteps)\n",
    "\n",
    "        # Get some data and prepare the corrupted version\n",
    "      #  x = x.to(device) * 2 - 1 # Data on the GPU (mapped to (-1, 1))\n",
    "      #  y = y.to(device)\n",
    "        noise = torch.randn_like(x)\n",
    "        timesteps = torch.randint(0, 999, (x.shape[0],)).long().to(device)\n",
    "\n",
    "        with torch.no_grad():\n",
    "            noisy_x = noise_scheduler.add_noise(x, noise, timesteps)\n",
    "\n",
    "        # Get the model prediction\n",
    "            pred = model(noisy_x, timesteps, y, drop_prob = 0) # Note that we pass in the labels y\n",
    "\n",
    "        # Calculate the loss\n",
    "            val_loss = loss_fn(pred, noise) # How close is the output to the noise\n",
    "        \n",
    "        val_losses.append(val_loss.item())\n",
    "    current_val_loss = torch.tensor(val_losses).mean()\n",
    "    \n",
    "    print(f'Finished val epoch {epoch}. mean_val loss: {current_val_loss:05f}')\n",
    "\n",
    "    if current_val_loss < best_val_loss:\n",
    "        best_val_loss = current_val_loss\n",
    "        print(\"Save checkpoint\")\n",
    "        torch.save(model.state_dict(), \"checkpoint.pth\")\n",
    "    print()"
   ]
  },
  {
   "cell_type": "code",
   "execution_count": null,
   "metadata": {},
   "outputs": [],
   "source": [
    "#@markdown Sampling some different digits:\n",
    "\n",
    "'''\n",
    "def qualitative_eval_model(noise_scheduler):\n",
    "# Prepare random x to start from, plus some desired labels y\n",
    "    x = torch.randn(80, 1, 28, 28).to(device)\n",
    "    y = torch.tensor([[i]*8 for i in range(10)]).flatten().to(device)\n",
    "    net = ClassConditionedUnet().to(device)\n",
    "\n",
    "    net.load_state_dict(torch.load(\"checkpoints/checkpoint.pth\"))\n",
    "    net.eval()\n",
    "\n",
    "# Sampling loop\n",
    "    for i, t in tqdm(enumerate(noise_scheduler.timesteps)):\n",
    "\n",
    "    # Get model pred\n",
    "        with torch.no_grad():\n",
    "            residual = net(x, t, y)  # Again, note that we pass in our labels y\n",
    "\n",
    "    # Update sample with step\n",
    "        x = noise_scheduler.step(residual, t, x).prev_sample\n",
    "\n",
    "# Show the results\n",
    "    fig, ax = plt.subplots(1, 1, figsize=(12, 12))\n",
    "    ax.imshow(torchvision.utils.make_grid(x.detach().cpu().clip(-1, 1), nrow=8)[0], cmap='gray')\n",
    "\n",
    "    return\n",
    "    '''"
   ]
  },
  {
   "cell_type": "code",
   "execution_count": 9,
   "metadata": {},
   "outputs": [
    {
     "name": "stdout",
     "output_type": "stream",
     "text": [
      "tensor([[-0.4531,  0.1798,  0.0000,  0.0000,  0.0000,  0.0000,  0.0000,  0.0000,\n",
      "          0.0000,  1.0000,  0.0000,  0.0000]], device='cuda:0')\n"
     ]
    },
    {
     "data": {
      "text/plain": [
       "<matplotlib.image.AxesImage at 0x7f4d547717b0>"
      ]
     },
     "execution_count": 9,
     "metadata": {},
     "output_type": "execute_result"
    },
    {
     "data": {
      "image/png": "[encoded data removed]",
      "text/plain": [
       "<Figure size 640x480 with 1 Axes>"
      ]
     },
     "metadata": {},
     "output_type": "display_data"
    }
   ],
   "source": [
    "test_data_loader = torch.utils.data.DataLoader(val_set, batch_size=1, shuffle=True, num_workers=7)\n",
    "iterator = iter(test_data_loader)\n",
    "batch = next(iterator)\n",
    "\n",
    "img , y = batch[0].to(device) , batch[1].to(device)\n",
    "print(y)\n",
    "plt.imshow(img.squeeze(0).squeeze(0).cpu(), cmap = \"gray\")"
   ]
  },
  {
   "cell_type": "code",
   "execution_count": 13,
   "metadata": {},
   "outputs": [
    {
     "name": "stderr",
     "output_type": "stream",
     "text": [
      "22it [00:00, 100.23it/s]"
     ]
    },
    {
     "name": "stderr",
     "output_type": "stream",
     "text": [
      "150it [00:01, 107.71it/s]\n"
     ]
    }
   ],
   "source": [
    "x = torch.randn(1, 1, 32, 32).to(device)\n",
    "noise_scheduler = DDIMScheduler(num_train_timesteps=1000)\n",
    "noise_scheduler.set_timesteps(num_inference_steps=150)\n",
    "\n",
    "y = torch.tensor([[-0.0644, 0.7502, 0.0000, 0.0000, 0.0000, 0.0000, 0.0000, 0.0000, 1.0000,\n",
    "         0.0000, 0.0000, 0.0000]], device='cuda:0')\n",
    "\n",
    "model.load_state_dict(torch.load(\"checkpoint_morpho_2.pth\"))\n",
    "model.eval()\n",
    "\n",
    "for i, t in tqdm(enumerate(noise_scheduler.timesteps)):\n",
    "    # Get model pred\n",
    "       # print(t)\n",
    "        with torch.no_grad():\n",
    "            residual = model(x, t, y, drop_prob=0)  # Again, note that we pass in our labels y\n",
    "\n",
    "    # Update sample with step\n",
    "        x = noise_scheduler.step(residual, t, x).prev_sample"
   ]
  },
  {
   "cell_type": "code",
   "execution_count": 11,
   "metadata": {},
   "outputs": [
    {
     "data": {
      "text/plain": [
       "<matplotlib.image.AxesImage at 0x7f4d52e474c0>"
      ]
     },
     "execution_count": 11,
     "metadata": {},
     "output_type": "execute_result"
    },
    {
     "data": {
      "image/png": "[encoded data removed]",
      "text/plain": [
       "<Figure size 640x480 with 1 Axes>"
      ]
     },
     "metadata": {},
     "output_type": "display_data"
    }
   ],
   "source": [
    "plt.imshow(img.squeeze(0).squeeze(0).cpu(), cmap = \"gray\")"
   ]
  },
  {
   "cell_type": "code",
   "execution_count": 14,
   "metadata": {},
   "outputs": [
    {
     "data": {
      "text/plain": [
       "<matplotlib.image.AxesImage at 0x7f4d52d1f550>"
      ]
     },
     "execution_count": 14,
     "metadata": {},
     "output_type": "execute_result"
    },
    {
     "data": {
      "image/png": "[encoded data removed]",
      "text/plain": [
       "<Figure size 640x480 with 1 Axes>"
      ]
     },
     "metadata": {},
     "output_type": "display_data"
    }
   ],
   "source": [
    "plt.imshow(x.squeeze(0).squeeze(0).cpu(), cmap = \"gray\")"
   ]
  },
  {
   "cell_type": "code",
   "execution_count": 15,
   "metadata": {},
   "outputs": [],
   "source": [
    "import math\n",
    "from dataclasses import dataclass\n",
    "from typing import Optional, Tuple, Union\n",
    "\n",
    "import numpy as np\n",
    "import torch\n",
    "import matplotlib.pyplot as plt\n",
    "from tqdm.auto import tqdm\n",
    "from PIL import Image\n",
    "\n",
    "from diffusers.configuration_utils import ConfigMixin, register_to_config\n",
    "from diffusers.utils import BaseOutput, deprecate\n",
    "from diffusers.schedulers.scheduling_utils import SchedulerMixin\n",
    "\n",
    "\n",
    "@dataclass\n",
    "class DDIMSchedulerOutput(BaseOutput):\n",
    "    \"\"\"\n",
    "    Output class for the scheduler's step function output.\n",
    "\n",
    "    Args:\n",
    "        prev_sample (`torch.FloatTensor` of shape `(batch_size, num_channels, height, width)` for images):\n",
    "            Computed sample (x_{t-1}) of previous timestep. `prev_sample` should be used as next model input in the\n",
    "            denoising loop.\n",
    "        next_sample (`torch.FloatTensor` of shape `(batch_size, num_channels, height, width)` for images):\n",
    "            Computed sample (x_{t+1}) of previous timestep. `next_sample` should be used as next model input in the\n",
    "            reverse denoising loop.\n",
    "        pred_original_sample (`torch.FloatTensor` of shape `(batch_size, num_channels, height, width)` for images):\n",
    "            The predicted denoised sample (x_{0}) based on the model output from the current timestep.\n",
    "            `pred_original_sample` can be used to preview progress or for guidance.\n",
    "    \"\"\"\n",
    "\n",
    "    prev_sample: Optional[torch.FloatTensor] = None\n",
    "    next_sample: Optional[torch.FloatTensor] = None\n",
    "    pred_original_sample: Optional[torch.FloatTensor] = None\n",
    "\n",
    "\n",
    "def betas_for_alpha_bar(num_diffusion_timesteps, max_beta=0.999) -> torch.Tensor:\n",
    "    \"\"\"\n",
    "    Create a beta schedule that discretizes the given alpha_t_bar function, which defines the cumulative product of\n",
    "    (1-beta) over time from t = [0,1].\n",
    "\n",
    "    Contains a function alpha_bar that takes an argument t and transforms it to the cumulative product of (1-beta) up\n",
    "    to that part of the diffusion process.\n",
    "\n",
    "\n",
    "    Args:\n",
    "        num_diffusion_timesteps (`int`): the number of betas to produce.\n",
    "        max_beta (`float`): the maximum beta to use; use values lower than 1 to\n",
    "                     prevent singularities.\n",
    "\n",
    "    Returns:\n",
    "        betas (`np.ndarray`): the betas used by the scheduler to step the model outputs\n",
    "    \"\"\"\n",
    "\n",
    "    def alpha_bar(time_step):\n",
    "        return math.cos((time_step + 0.008) / 1.008 * math.pi / 2) ** 2\n",
    "\n",
    "    betas = []\n",
    "    for i in range(num_diffusion_timesteps):\n",
    "        t1 = i / num_diffusion_timesteps\n",
    "        t2 = (i + 1) / num_diffusion_timesteps\n",
    "        betas.append(min(1 - alpha_bar(t2) / alpha_bar(t1), max_beta))\n",
    "    return torch.tensor(betas)\n",
    "\n",
    "\n",
    "class DDIMScheduler2(SchedulerMixin, ConfigMixin):\n",
    "    \"\"\"\n",
    "    Denoising diffusion implicit models is a scheduler that extends the denoising procedure introduced in denoising\n",
    "    diffusion probabilistic models (DDPMs) with non-Markovian guidance.\n",
    "\n",
    "    [`~ConfigMixin`] takes care of storing all config attributes that are passed in the scheduler's `__init__`\n",
    "    function, such as `num_train_timesteps`. They can be accessed via `scheduler.config.num_train_timesteps`.\n",
    "    [`~ConfigMixin`] also provides general loading and saving functionality via the [`~ConfigMixin.save_config`] and\n",
    "    [`~ConfigMixin.from_config`] functions.\n",
    "\n",
    "    For more details, see the original paper: https://arxiv.org/abs/2010.02502\n",
    "\n",
    "    Args:\n",
    "        num_train_timesteps (`int`): number of diffusion steps used to train the model.\n",
    "        beta_start (`float`): the starting `beta` value of inference.\n",
    "        beta_end (`float`): the final `beta` value.\n",
    "        beta_schedule (`str`):\n",
    "            the beta schedule, a mapping from a beta range to a sequence of betas for stepping the model. Choose from\n",
    "            `linear`, `scaled_linear`, or `squaredcos_cap_v2`.\n",
    "        trained_betas (`np.ndarray`, optional):\n",
    "            option to pass an array of betas directly to the constructor to bypass `beta_start`, `beta_end` etc.\n",
    "        clip_sample (`bool`, default `True`):\n",
    "            option to clip predicted sample between -1 and 1 for numerical stability.\n",
    "        set_alpha_to_one (`bool`, default `True`):\n",
    "            each diffusion step uses the value of alphas product at that step and at the previous one. For the final\n",
    "            step there is no previous alpha. When this option is `True` the previous alpha product is fixed to `1`,\n",
    "            otherwise it uses the value of alpha at step 0.\n",
    "        steps_offset (`int`, default `0`):\n",
    "            an offset added to the inference steps. You can use a combination of `offset=1` and\n",
    "            `set_alpha_to_one=False`, to make the last step use step 0 for the previous alpha product, as done in\n",
    "            stable diffusion.\n",
    "\n",
    "    \"\"\"\n",
    "\n",
    "    @register_to_config\n",
    "    def __init__(\n",
    "        self,\n",
    "        num_train_timesteps: int = 1000,\n",
    "        beta_start: float = 0.0001,\n",
    "        beta_end: float = 0.02,\n",
    "        beta_schedule: str = \"linear\",\n",
    "        trained_betas: Optional[np.ndarray] = None,\n",
    "        clip_sample: bool = True,\n",
    "        set_alpha_to_one: bool = True,\n",
    "        steps_offset: int = 0,\n",
    "    ):\n",
    "        if trained_betas is not None:\n",
    "            self.betas = torch.from_numpy(trained_betas)\n",
    "        elif beta_schedule == \"linear\":\n",
    "            self.betas = torch.linspace(beta_start, beta_end, num_train_timesteps, dtype=torch.float32)\n",
    "        elif beta_schedule == \"scaled_linear\":\n",
    "            # this schedule is very specific to the latent diffusion model.\n",
    "            self.betas = (\n",
    "                torch.linspace(beta_start**0.5, beta_end**0.5, num_train_timesteps, dtype=torch.float32) ** 2\n",
    "            )\n",
    "        elif beta_schedule == \"squaredcos_cap_v2\":\n",
    "            # Glide cosine schedule\n",
    "            self.betas = betas_for_alpha_bar(num_train_timesteps)\n",
    "        else:\n",
    "            raise NotImplementedError(f\"{beta_schedule} does is not implemented for {self.__class__}\")\n",
    "\n",
    "        self.alphas = 1.0 - self.betas\n",
    "        self.alphas_cumprod = torch.cumprod(self.alphas, dim=0)\n",
    "\n",
    "        # At every step in ddim, we are looking into the previous alphas_cumprod\n",
    "        # For the final step, there is no previous alphas_cumprod because we are already at 0\n",
    "        # `set_alpha_to_one` decides whether we set this parameter simply to one or\n",
    "        # whether we use the final alpha of the \"non-previous\" one.\n",
    "        self.final_alpha_cumprod = torch.tensor(1.0) if set_alpha_to_one else self.alphas_cumprod[0]\n",
    "\n",
    "        # standard deviation of the initial noise distribution\n",
    "        self.init_noise_sigma = 1.0\n",
    "\n",
    "        # setable values\n",
    "        self.num_inference_steps = None\n",
    "        self.timesteps = torch.from_numpy(np.arange(0, num_train_timesteps)[::-1].copy().astype(np.int64))\n",
    "\n",
    "    def _get_variance(self, timestep, prev_timestep):\n",
    "        alpha_prod_t = self.alphas_cumprod[timestep]\n",
    "        alpha_prod_t_prev = self.alphas_cumprod[prev_timestep] if prev_timestep >= 0 else self.final_alpha_cumprod\n",
    "        beta_prod_t = 1 - alpha_prod_t\n",
    "        beta_prod_t_prev = 1 - alpha_prod_t_prev\n",
    "\n",
    "        variance = (beta_prod_t_prev / beta_prod_t) * (1 - alpha_prod_t / alpha_prod_t_prev)\n",
    "\n",
    "        return variance\n",
    "\n",
    "    def set_timesteps(self, num_inference_steps: int, device: Union[str, torch.device] = None):\n",
    "        \"\"\"\n",
    "        Sets the discrete timesteps used for the diffusion chain. Supporting function to be run before inference.\n",
    "        Args:\n",
    "            num_inference_steps (`int`):\n",
    "                the number of diffusion steps used when generating samples with a pre-trained model.\n",
    "        \"\"\"\n",
    "        self.num_inference_steps = num_inference_steps\n",
    "        step_ratio = self.config.num_train_timesteps // self.num_inference_steps\n",
    "        # creates integer timesteps by multiplying by ratio\n",
    "        # casting to int to avoid issues when num_inference_step is power of 3\n",
    "        timesteps = (np.arange(0, num_inference_steps) * step_ratio).round()[::-1].copy().astype(np.int64)\n",
    "        self.timesteps = torch.from_numpy(timesteps).to(device)\n",
    "        self.timesteps += self.config.steps_offset\n",
    "        \n",
    "    def scale_model_input(self, sample: torch.FloatTensor, timestep: Optional[int] = None) -> torch.FloatTensor:\n",
    "        \"\"\"\n",
    "        Ensures interchangeability with schedulers that need to scale the denoising model input depending on the\n",
    "        current timestep.\n",
    "        Args:\n",
    "            sample (`torch.FloatTensor`): input sample\n",
    "            timestep (`int`, optional): current timestep\n",
    "        Returns:\n",
    "            `torch.FloatTensor`: scaled input sample\n",
    "        \"\"\"\n",
    "        return sample\n",
    "\n",
    "    def step(\n",
    "        self,\n",
    "        model_output: torch.FloatTensor,\n",
    "        timestep: int,\n",
    "        sample: torch.FloatTensor,\n",
    "        eta: float = 0.0,\n",
    "        use_clipped_model_output: bool = False,\n",
    "        generator=None,\n",
    "        return_dict: bool = True,\n",
    "    ) -> Union[DDIMSchedulerOutput, Tuple]:\n",
    "        \"\"\"\n",
    "        Predict the sample at the previous timestep by reversing the SDE. Core function to propagate the diffusion\n",
    "        process from the learned model outputs (most often the predicted noise).\n",
    "\n",
    "        Args:\n",
    "            model_output (`torch.FloatTensor`): direct output from learned diffusion model.\n",
    "            timestep (`int`): current discrete timestep in the diffusion chain.\n",
    "            sample (`torch.FloatTensor`):\n",
    "                current instance of sample being created by diffusion process.\n",
    "            eta (`float`): weight of noise for added noise in diffusion step.\n",
    "            use_clipped_model_output (`bool`): TODO\n",
    "            generator: random number generator.\n",
    "            return_dict (`bool`): option for returning tuple rather than DDIMSchedulerOutput class\n",
    "\n",
    "        Returns:\n",
    "            [`~schedulers.scheduling_utils.DDIMSchedulerOutput`] or `tuple`:\n",
    "            [`~schedulers.scheduling_utils.DDIMSchedulerOutput`] if `return_dict` is True, otherwise a `tuple`. When\n",
    "            returning a tuple, the first element is the sample tensor.\n",
    "\n",
    "        \"\"\"\n",
    "        if self.num_inference_steps is None:\n",
    "            raise ValueError(\n",
    "                \"Number of inference steps is 'None', you need to run 'set_timesteps' after creating the scheduler\"\n",
    "            )\n",
    "\n",
    "        # See formulas (12) and (16) of DDIM paper https://arxiv.org/pdf/2010.02502.pdf\n",
    "        # Ideally, read DDIM paper in-detail understanding\n",
    "\n",
    "        # Notation (<variable name> -> <name in paper>\n",
    "        # - pred_noise_t -> e_theta(x_t, t)\n",
    "        # - pred_original_sample -> f_theta(x_t, t) or x_0\n",
    "        # - std_dev_t -> sigma_t\n",
    "        # - eta -> η\n",
    "        # - pred_sample_direction -> \"direction pointing to x_t\"\n",
    "        # - pred_prev_sample -> \"x_t-1\"\n",
    "\n",
    "        # 1. get previous step value (=t-1)\n",
    "        prev_timestep = timestep - self.config.num_train_timesteps // self.num_inference_steps\n",
    "\n",
    "        # 2. compute alphas, betas\n",
    "        alpha_prod_t = self.alphas_cumprod[timestep]\n",
    "        alpha_prod_t_prev = self.alphas_cumprod[prev_timestep] if prev_timestep >= 0 else self.final_alpha_cumprod\n",
    "\n",
    "        beta_prod_t = 1 - alpha_prod_t\n",
    "\n",
    "        # 3. compute predicted original sample from predicted noise also called\n",
    "        # \"predicted x_0\" of formula (12) from https://arxiv.org/pdf/2010.02502.pdf\n",
    "        pred_original_sample = (sample - beta_prod_t ** (0.5) * model_output) / alpha_prod_t ** (0.5)\n",
    "\n",
    "        # 4. Clip \"predicted x_0\"\n",
    "        if self.config.clip_sample:\n",
    "            pred_original_sample = torch.clamp(pred_original_sample, -1, 1)\n",
    "\n",
    "        # 5. compute variance: \"sigma_t(η)\" -> see formula (16)\n",
    "        # σ_t = sqrt((1 − α_t−1)/(1 − α_t)) * sqrt(1 − α_t/α_t−1)\n",
    "        variance = self._get_variance(timestep, prev_timestep)\n",
    "        std_dev_t = eta * variance ** (0.5)\n",
    "\n",
    "        if use_clipped_model_output:\n",
    "            # the model_output is always re-derived from the clipped x_0 in Glide\n",
    "            model_output = (sample - alpha_prod_t ** (0.5) * pred_original_sample) / beta_prod_t ** (0.5)\n",
    "\n",
    "        # 6. compute \"direction pointing to x_t\" of formula (12) from https://arxiv.org/pdf/2010.02502.pdf\n",
    "        pred_sample_direction = (1 - alpha_prod_t_prev - std_dev_t**2) ** (0.5) * model_output\n",
    "\n",
    "        # 7. compute x_t without \"random noise\" of formula (12) from https://arxiv.org/pdf/2010.02502.pdf\n",
    "        prev_sample = alpha_prod_t_prev ** (0.5) * pred_original_sample + pred_sample_direction\n",
    "\n",
    "        if eta > 0:\n",
    "            device = model_output.device if torch.is_tensor(model_output) else \"cpu\"\n",
    "            noise = torch.randn(model_output.shape, generator=generator).to(device)\n",
    "            variance = self._get_variance(timestep, prev_timestep) ** (0.5) * eta * noise\n",
    "\n",
    "            prev_sample = prev_sample + variance\n",
    "\n",
    "        if not return_dict:\n",
    "            return (prev_sample,)\n",
    "\n",
    "        return DDIMSchedulerOutput(prev_sample=prev_sample, pred_original_sample=pred_original_sample)\n",
    "\n",
    "    def reverse_step(\n",
    "        self,\n",
    "        model_output: torch.FloatTensor,\n",
    "        timestep: int,\n",
    "        sample: torch.FloatTensor,\n",
    "        eta: float = 0.0,\n",
    "        use_clipped_model_output: bool = False,\n",
    "        generator=None,\n",
    "        return_dict: bool = True,\n",
    "    ) -> Union[DDIMSchedulerOutput, Tuple]:\n",
    "        \"\"\"\n",
    "        Predict the sample at the previous timestep by reversing the SDE. Core function to propagate the diffusion\n",
    "        process from the learned model outputs (most often the predicted noise).\n",
    "\n",
    "        Args:\n",
    "            model_output (`torch.FloatTensor`): direct output from learned diffusion model.\n",
    "            timestep (`int`): current discrete timestep in the diffusion chain.\n",
    "            sample (`torch.FloatTensor`):\n",
    "                current instance of sample being created by diffusion process.\n",
    "            eta (`float`): weight of noise for added noise in diffusion step.\n",
    "            use_clipped_model_output (`bool`): TODO\n",
    "            generator: random number generator.\n",
    "            return_dict (`bool`): option for returning tuple rather than DDIMSchedulerOutput class\n",
    "\n",
    "        Returns:\n",
    "            [`~schedulers.scheduling_utils.DDIMSchedulerOutput`] or `tuple`:\n",
    "            [`~schedulers.scheduling_utils.DDIMSchedulerOutput`] if `return_dict` is True, otherwise a `tuple`. When\n",
    "            returning a tuple, the first element is the sample tensor.\n",
    "\n",
    "        \"\"\"\n",
    "        if self.num_inference_steps is None:\n",
    "            raise ValueError(\n",
    "                \"Number of inference steps is 'None', you need to run 'set_timesteps' after creating the scheduler\"\n",
    "            )\n",
    "\n",
    "        # See formulas (12) and (16) of DDIM paper https://arxiv.org/pdf/2010.02502.pdf\n",
    "        # Ideally, read DDIM paper in-detail understanding\n",
    "\n",
    "        # Notation (<variable name> -> <name in paper>\n",
    "        # - pred_noise_t -> e_theta(x_t, t)\n",
    "        # - pred_original_sample -> f_theta(x_t, t) or x_0\n",
    "        # - std_dev_t -> sigma_t\n",
    "        # - eta -> η\n",
    "        # - pred_sample_direction -> \"direction pointing to x_t\"\n",
    "        # - pred_prev_sample -> \"x_t-1\"\n",
    "\n",
    "        # 1. get previous step value (=t-1)\n",
    "        next_timestep = min(self.config.num_train_timesteps - 2,\n",
    "                            timestep + self.config.num_train_timesteps // self.num_inference_steps)\n",
    "\n",
    "        # 2. compute alphas, betas\n",
    "        alpha_prod_t = self.alphas_cumprod[timestep]\n",
    "        alpha_prod_t_next = self.alphas_cumprod[next_timestep] if next_timestep >= 0 else self.final_alpha_cumprod\n",
    "\n",
    "        beta_prod_t = 1 - alpha_prod_t\n",
    "\n",
    "        # 3. compute predicted original sample from predicted noise also called\n",
    "        # \"predicted x_0\" of formula (12) from https://arxiv.org/pdf/2010.02502.pdf\n",
    "        pred_original_sample = (sample - beta_prod_t ** (0.5) * model_output) / alpha_prod_t ** (0.5)\n",
    "\n",
    "        # 4. Clip \"predicted x_0\"\n",
    "        if self.config.clip_sample:\n",
    "            pred_original_sample = torch.clamp(pred_original_sample, -1, 1)\n",
    "\n",
    "        # 5. TODO: simple noising implementatiom\n",
    "        next_sample = self.add_noise(pred_original_sample,\n",
    "                                     model_output,\n",
    "                                     torch.LongTensor([next_timestep]))\n",
    "\n",
    "        # # 5. compute variance: \"sigma_t(η)\" -> see formula (16)\n",
    "        # # σ_t = sqrt((1 − α_t−1)/(1 − α_t)) * sqrt(1 − α_t/α_t−1)\n",
    "        # variance = self._get_variance(next_timestep, timestep)\n",
    "        # std_dev_t = eta * variance ** (0.5)\n",
    "\n",
    "        # if use_clipped_model_output:\n",
    "        #     # the model_output is always re-derived from the clipped x_0 in Glide\n",
    "        #     model_output = (sample - alpha_prod_t ** (0.5) * pred_original_sample) / beta_prod_t ** (0.5)\n",
    "\n",
    "        # # 6. compute \"direction pointing to x_t\" of formula (12) from https://arxiv.org/pdf/2010.02502.pdf\n",
    "        # pred_sample_direction = (1 - alpha_prod_t_next - std_dev_t**2) ** (0.5) * model_output\n",
    "\n",
    "        # # 7. compute x_t without \"random noise\" of formula (12) from https://arxiv.org/pdf/2010.02502.pdf\n",
    "        # next_sample = alpha_prod_t_next ** (0.5) * pred_original_sample + pred_sample_direction\n",
    "\n",
    "        if not return_dict:\n",
    "            return (next_sample,)\n",
    "\n",
    "        return DDIMSchedulerOutput(next_sample=next_sample, pred_original_sample=pred_original_sample)\n",
    "\n",
    "    def add_noise(\n",
    "        self,\n",
    "        original_samples: torch.FloatTensor,\n",
    "        noise: torch.FloatTensor,\n",
    "        timesteps: torch.IntTensor,\n",
    "    ) -> torch.FloatTensor:\n",
    "        if self.alphas_cumprod.device != original_samples.device:\n",
    "            self.alphas_cumprod = self.alphas_cumprod.to(original_samples.device)\n",
    "        if timesteps.device != original_samples.device:\n",
    "            timesteps = timesteps.to(original_samples.device)\n",
    "\n",
    "        sqrt_alpha_prod = self.alphas_cumprod[timesteps] ** 0.5\n",
    "        sqrt_alpha_prod = sqrt_alpha_prod.flatten()\n",
    "        while len(sqrt_alpha_prod.shape) < len(original_samples.shape):\n",
    "            sqrt_alpha_prod = sqrt_alpha_prod.unsqueeze(-1)\n",
    "\n",
    "        sqrt_one_minus_alpha_prod = (1 - self.alphas_cumprod[timesteps]) ** 0.5\n",
    "        sqrt_one_minus_alpha_prod = sqrt_one_minus_alpha_prod.flatten()\n",
    "        while len(sqrt_one_minus_alpha_prod.shape) < len(original_samples.shape):\n",
    "            sqrt_one_minus_alpha_prod = sqrt_one_minus_alpha_prod.unsqueeze(-1)\n",
    "\n",
    "        noisy_samples = sqrt_alpha_prod * original_samples + sqrt_one_minus_alpha_prod * noise\n",
    "        return noisy_samples\n",
    "\n",
    "    def __len__(self):\n",
    "        return self.config.num_train_timesteps\n"
   ]
  },
  {
   "cell_type": "code",
   "execution_count": 16,
   "metadata": {},
   "outputs": [],
   "source": [
    "noise_scheduler = DDIMScheduler2()\n",
    "#noise_scheduler = DDIMScheduler(num_train_timesteps=1000)\n",
    "#noise_scheduler_inv = DDIMInverseScheduler(num_train_timesteps=1000)"
   ]
  },
  {
   "cell_type": "code",
   "execution_count": 29,
   "metadata": {},
   "outputs": [
    {
     "name": "stderr",
     "output_type": "stream",
     "text": [
      "  0%|          | 0/200 [00:17<?, ?it/s]\n"
     ]
    },
    {
     "name": "stdout",
     "output_type": "stream",
     "text": [
      "torch.Size([1, 1, 32, 32])\n"
     ]
    },
    {
     "data": {
      "image/png": "[encoded data removed]",
      "text/plain": [
       "<Figure size 2000x800 with 4 Axes>"
      ]
     },
     "metadata": {},
     "output_type": "display_data"
    }
   ],
   "source": [
    "model.eval()\n",
    "\n",
    "guidance_scale = 3.5\n",
    "total_timesteps = 200\n",
    "latent_space_depth = int(total_timesteps * 1)\n",
    "\n",
    "\n",
    "model.load_state_dict(torch.load(\"checkpoint_morpho_2.pth\"))\n",
    "model.eval()\n",
    "\n",
    "current_img = img.to(device) #inputting[None, ...].to(device)\n",
    "#print(current_img.shape, current_img.device, type(current_img))\n",
    "noise_scheduler.set_timesteps(num_inference_steps=total_timesteps)\n",
    "timesteps = noise_scheduler.timesteps.flip(0)\n",
    "## Encoding\n",
    "#embed = torch.nn.Embedding(num_embeddings=3, embedding_dim=embedding_dimension, padding_idx=0).to(device)\n",
    "#noise_scheduler_inv.clip_sample = False\n",
    "#class_embedding = embed(torch.zeros(1).long().to(device)).unsqueeze(1)\n",
    "progress_bar = tqdm(range(latent_space_depth))\n",
    "cond = torch.tensor([[-0.5833, -0.4479,  0.0000,  0.0000,  1.0000,  0.0000,  0.0000,  0.0000,\n",
    "          0.0000,  0.0000,  0.0000,  0.0000]], device='cuda:0')\n",
    "\n",
    "#cond =  torch. tensor([[-0.1827,  0.3342,  0.0000,  0.0000,  0.0000,  0.0000,  1.0000,  0.0000,\n",
    "#          0.0000,  0.0000,  0.0000,  0.0000]], device='cuda:0')\n",
    "\n",
    "u_cond =  torch. tensor([[0.0000,  0.0000,  0.0000,  0.0000,  0.0000,  0.0000,  0.0000,  0.0000,\n",
    "          0.0000,  0.0000,  0.0000,  0.0000]], device='cuda:0')\n",
    "\n",
    "plt.figure(figsize=(20,8))\n",
    "\n",
    "#noise_scheduler.clip_sample = True\n",
    "print(current_img.shape)\n",
    "#a = current_img\n",
    "for i , t  in enumerate(timesteps):  # go through the noising process\n",
    "    t = i\n",
    "  #  print(t)\n",
    "    with torch.no_grad():\n",
    "       # print(current_img)\n",
    "        model_output = model(current_img, torch.Tensor((t,)).cuda(), u_cond, drop_prob=0)\n",
    "     #   plt.imshow(model_output.squeeze(0).squeeze(0).cpu(), cmap=\"gray\")\n",
    "       # break\n",
    "    current_img  = noise_scheduler.reverse_step(model_output, t, current_img).next_sample\n",
    "    if i % 50 == 0:\n",
    "            plt.subplot(1, 10 , i//50+1)\n",
    "            plt.imshow(current_img.squeeze(0).squeeze(0).cpu(), cmap=\"gray\")\n",
    "   # progress_bar.set_postfix({\"timestep input\": t})\n",
    "\n",
    "latent_img = current_img"
   ]
  },
  {
   "cell_type": "code",
   "execution_count": 30,
   "metadata": {},
   "outputs": [
    {
     "name": "stdout",
     "output_type": "stream",
     "text": [
      "tensor(-1.9807, device='cuda:0') tensor(2.5892, device='cuda:0')\n"
     ]
    },
    {
     "data": {
      "image/png": "[encoded data removed]",
      "text/plain": [
       "<Figure size 640x480 with 1 Axes>"
      ]
     },
     "metadata": {},
     "output_type": "display_data"
    }
   ],
   "source": [
    "plt.imshow(latent_img.squeeze(0).squeeze(0).cpu(), cmap=\"gray\")\n",
    "print(latent_img.min(), latent_img.max())\n",
    "#latent_img = 2 * ((latent_img - latent_img.min()) / (latent_img.max() - latent_img.min())) - 1#\n",
    "#plt.imshow(latent_img.squeeze(0).squeeze(0).cpu(), cmap=\"gray\")\n",
    "#print(latent_img.min(), latent_img.max())\n"
   ]
  },
  {
   "cell_type": "code",
   "execution_count": 31,
   "metadata": {},
   "outputs": [
    {
     "name": "stdout",
     "output_type": "stream",
     "text": [
      "tensor([[ 0.0000,  0.0000,  0.0000,  0.0000,  0.0000,  0.0000,  0.0000,  0.0000,\n",
      "          0.0000,  0.0000,  0.0000,  0.0000],\n",
      "        [-0.5833, -0.4479,  0.0000,  0.0000,  1.0000,  0.0000,  0.0000,  0.0000,\n",
      "          0.0000,  0.0000,  0.0000,  0.0000]], device='cuda:0')\n",
      "torch.Size([2, 12])\n"
     ]
    }
   ],
   "source": [
    "#cond = torch.tensor([[-0.5833, -0.4479,  0.0000,  0.0000,  1.0000,  0.0000,  0.0000,  0.0000,\n",
    "#          0.0000,  0.0000,  0.0000,  0.0000]], device='cuda:0')\n",
    "\n",
    "conditioning = torch.cat((u_cond, cond),dim=0).to(device)\n",
    "conditioning.shape\n",
    "print(conditioning)\n",
    "print(conditioning.shape)\n"
   ]
  },
  {
   "cell_type": "code",
   "execution_count": 32,
   "metadata": {},
   "outputs": [
    {
     "name": "stderr",
     "output_type": "stream",
     "text": [
      "  0%|          | 0/200 [01:53<?, ?it/s]\n",
      "  0%|          | 0/200 [00:00<?, ?it/s]\n",
      "200it [00:02, 79.98it/s]\n"
     ]
    },
    {
     "data": {
      "image/png": "[encoded data removed]",
      "text/plain": [
       "<Figure size 2000x800 with 4 Axes>"
      ]
     },
     "metadata": {},
     "output_type": "display_data"
    }
   ],
   "source": [
    "#conditioning = torch.tensor([7, 8]).long().to(device)\n",
    "\n",
    "progress_bar = tqdm(range(latent_space_depth))\n",
    "noise_scheduler.set_timesteps(num_inference_steps=total_timesteps)\n",
    "\n",
    "model.load_state_dict(torch.load(\"checkpoint_morpho_2.pth\"))\n",
    "model.eval()\n",
    "\n",
    "\n",
    "progress_bar = tqdm(range(latent_space_depth))\n",
    "noise_scheduler.set_timesteps(num_inference_steps=total_timesteps)\n",
    "\n",
    "current_img = latent_img #torch.randn(1,1,32,32).to(device)\n",
    "plt.figure(figsize=(20,8))\n",
    "\n",
    "for i , t in tqdm(enumerate(timesteps)):  # go through the denoising process\n",
    "    t = i #latent_space_depth - i\n",
    "\n",
    "    current_img_double = torch.cat([current_img] * 2)\n",
    "    with torch.no_grad():\n",
    "        model_output = model(\n",
    "            current_img_double, t=torch.Tensor([t, t]).to(current_img.device), y=conditioning,  drop_prob=0)\n",
    "    noise_pred_uncond, noise_pred_text = model_output.chunk(2)\n",
    "    noise_pred = noise_pred_uncond + guidance_scale * (noise_pred_text - noise_pred_uncond)\n",
    "    current_img = noise_scheduler.step(noise_pred, t, current_img).prev_sample\n",
    "    \n",
    "    if i % 50 == 0:\n",
    "            plt.subplot(1, 10 , i//50+1)\n",
    "            plt.imshow(current_img.squeeze(0).squeeze(0).cpu(), cmap=\"gray\")\n",
    "\n",
    "  #  progress_bar.set_postfix({\"timestep input\": t})\n",
    "    torch.cuda.empty_cache()"
   ]
  },
  {
   "cell_type": "code",
   "execution_count": 192,
   "metadata": {},
   "outputs": [
    {
     "name": "stderr",
     "output_type": "stream",
     "text": [
      "150it [00:01, 108.54it/s]\n"
     ]
    }
   ],
   "source": [
    "x = torch.randn(1, 1, 32, 32).to(device)\n",
    "noise_scheduler = DDIMScheduler(num_train_timesteps=1000)\n",
    "noise_scheduler.set_timesteps(num_inference_steps=150)\n",
    "\n",
    "y = torch.tensor([[-0.0644, 0.7502, 0.0000, 0.0000, 0.0000, 0.0000, 1.0000, 0.0000, 0.0000,\n",
    "         0.0000, 0.0000, 0.0000]], device='cuda:0')\n",
    "\n",
    "model.load_state_dict(torch.load(\"checkpoint.pth\"))\n",
    "model.eval()\n",
    "\n",
    "for i, t in tqdm(enumerate(noise_scheduler.timesteps)):\n",
    "    # Get model pred\n",
    "       # print(t)\n",
    "        with torch.no_grad():\n",
    "            residual = model(x, t, y, drop_prob=0)  # Again, note that we pass in our labels y\n",
    "\n",
    "    # Update sample with step\n",
    "        x = noise_scheduler.step(residual, t, x).prev_sample"
   ]
  },
  {
   "cell_type": "code",
   "execution_count": 195,
   "metadata": {},
   "outputs": [
    {
     "name": "stderr",
     "output_type": "stream",
     "text": [
      "150it [00:01, 109.11it/s]\n"
     ]
    }
   ],
   "source": [
    "noise_scheduler = DDIMScheduler(num_train_timesteps=1000)\n",
    "noise_scheduler.set_timesteps(num_inference_steps=150)\n",
    "\n",
    "x = torch.randn(1,1,32,32).to(device)\n",
    "\n",
    "for i, t in tqdm(enumerate(noise_scheduler.timesteps)):\n",
    "    # Get model pred\n",
    "       # print(t)\n",
    "        with torch.no_grad():\n",
    "            residual = model(x, t, y=conditioning[1], drop_prob=0)  # Again, note that we pass in our labels y\n",
    "\n",
    "    # Update sample with step\n",
    "        x = noise_scheduler.step(residual, t, x).prev_sample"
   ]
  },
  {
   "cell_type": "code",
   "execution_count": 33,
   "metadata": {},
   "outputs": [
    {
     "data": {
      "text/plain": [
       "<matplotlib.image.AxesImage at 0x7f4d24c65c30>"
      ]
     },
     "execution_count": 33,
     "metadata": {},
     "output_type": "execute_result"
    },
    {
     "data": {
      "image/png": "[encoded data removed]",
      "text/plain": [
       "<Figure size 640x480 with 1 Axes>"
      ]
     },
     "metadata": {},
     "output_type": "display_data"
    },
    {
     "ename": "",
     "evalue": "",
     "output_type": "error",
     "traceback": [
      "\u001b[1;31mThe Kernel crashed while executing code in the current cell or a previous cell. \n",
      "\u001b[1;31mPlease review the code in the cell(s) to identify a possible cause of the failure. \n",
      "\u001b[1;31mClick <a href='https://aka.ms/vscodeJupyterKernelCrash'>here</a> for more info. \n",
      "\u001b[1;31mView Jupyter <a href='command:jupyter.viewOutput'>log</a> for further details."
     ]
    }
   ],
   "source": [
    "plt.imshow(current_img.squeeze(0).squeeze(0).cpu(), cmap=\"gray\")"
   ]
  }
 ],
 "metadata": {
  "kernelspec": {
   "display_name": "crf_venv",
   "language": "python",
   "name": "python3"
  },
  "language_info": {
   "codemirror_mode": {
    "name": "ipython",
    "version": 3
   },
   "file_extension": ".py",
   "mimetype": "text/x-python",
   "name": "python",
   "nbconvert_exporter": "python",
   "pygments_lexer": "ipython3",
   "version": "3.10.12"
  }
 },
 "nbformat": 4,
 "nbformat_minor": 2
}
